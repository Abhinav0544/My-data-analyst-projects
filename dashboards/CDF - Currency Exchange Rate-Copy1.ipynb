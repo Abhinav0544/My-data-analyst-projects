{
 "cells": [
  {
   "cell_type": "code",
   "execution_count": 3,
   "id": "b2723cec",
   "metadata": {},
   "outputs": [],
   "source": [
    "# For data manipulation\n",
    "import numpy as np\n",
    "import pandas as pd\n",
    "\n",
    "# To fetch financial data\n",
    "import yfinance as yf\n",
    "\n",
    "# For visualisation\n",
    "import matplotlib.pyplot as plt\n",
    "plt.style.use('seaborn-darkgrid')\n",
    "%matplotlib inline\n",
    "import time\n",
    "from tqdm import tqdm"
   ]
  },
  {
   "cell_type": "code",
   "execution_count": 27,
   "id": "2bd49613",
   "metadata": {},
   "outputs": [],
   "source": [
    "forex_list_df = pd.read_excel(r\"C:\\Users\\SAL004\\Downloads\\Distinct Currency - Not In INR.xlsx\", header = None)"
   ]
  },
  {
   "cell_type": "code",
   "execution_count": 28,
   "id": "987c7f47",
   "metadata": {},
   "outputs": [
    {
     "data": {
      "text/html": [
       "<div>\n",
       "<style scoped>\n",
       "    .dataframe tbody tr th:only-of-type {\n",
       "        vertical-align: middle;\n",
       "    }\n",
       "\n",
       "    .dataframe tbody tr th {\n",
       "        vertical-align: top;\n",
       "    }\n",
       "\n",
       "    .dataframe thead th {\n",
       "        text-align: right;\n",
       "    }\n",
       "</style>\n",
       "<table border=\"1\" class=\"dataframe\">\n",
       "  <thead>\n",
       "    <tr style=\"text-align: right;\">\n",
       "      <th></th>\n",
       "      <th>0</th>\n",
       "    </tr>\n",
       "  </thead>\n",
       "  <tbody>\n",
       "    <tr>\n",
       "      <th>0</th>\n",
       "      <td>BHD</td>\n",
       "    </tr>\n",
       "    <tr>\n",
       "      <th>1</th>\n",
       "      <td>SAR</td>\n",
       "    </tr>\n",
       "    <tr>\n",
       "      <th>2</th>\n",
       "      <td>OTS</td>\n",
       "    </tr>\n",
       "    <tr>\n",
       "      <th>3</th>\n",
       "      <td>CNY</td>\n",
       "    </tr>\n",
       "    <tr>\n",
       "      <th>4</th>\n",
       "      <td>INR</td>\n",
       "    </tr>\n",
       "    <tr>\n",
       "      <th>5</th>\n",
       "      <td>RUB</td>\n",
       "    </tr>\n",
       "    <tr>\n",
       "      <th>6</th>\n",
       "      <td>TRY</td>\n",
       "    </tr>\n",
       "    <tr>\n",
       "      <th>7</th>\n",
       "      <td>AFN</td>\n",
       "    </tr>\n",
       "    <tr>\n",
       "      <th>8</th>\n",
       "      <td>ARS</td>\n",
       "    </tr>\n",
       "  </tbody>\n",
       "</table>\n",
       "</div>"
      ],
      "text/plain": [
       "     0\n",
       "0  BHD\n",
       "1  SAR\n",
       "2  OTS\n",
       "3  CNY\n",
       "4  INR\n",
       "5  RUB\n",
       "6  TRY\n",
       "7  AFN\n",
       "8  ARS"
      ]
     },
     "execution_count": 28,
     "metadata": {},
     "output_type": "execute_result"
    }
   ],
   "source": [
    "forex_list_df"
   ]
  },
  {
   "cell_type": "code",
   "execution_count": 34,
   "id": "33cbaaf5",
   "metadata": {},
   "outputs": [
    {
     "data": {
      "text/plain": [
       "'Unique Currency are '"
      ]
     },
     "metadata": {},
     "output_type": "display_data"
    },
    {
     "data": {
      "text/plain": [
       "0    9\n",
       "dtype: int64"
      ]
     },
     "metadata": {},
     "output_type": "display_data"
    }
   ],
   "source": [
    "display('Unique Currency are ',forex_list_df.nunique())"
   ]
  },
  {
   "cell_type": "code",
   "execution_count": 35,
   "id": "615a692b",
   "metadata": {},
   "outputs": [
    {
     "data": {
      "text/plain": [
       "Int64Index([0], dtype='int64')"
      ]
     },
     "execution_count": 35,
     "metadata": {},
     "output_type": "execute_result"
    }
   ],
   "source": [
    "forex_list_df.columns"
   ]
  },
  {
   "cell_type": "code",
   "execution_count": 36,
   "id": "13d93c85",
   "metadata": {},
   "outputs": [
    {
     "data": {
      "text/plain": [
       "'BHD'"
      ]
     },
     "execution_count": 36,
     "metadata": {},
     "output_type": "execute_result"
    }
   ],
   "source": [
    "forex_list_df[0][0]"
   ]
  },
  {
   "cell_type": "code",
   "execution_count": 37,
   "id": "facf5bb3",
   "metadata": {},
   "outputs": [],
   "source": [
    "from yfinance import exceptions"
   ]
  },
  {
   "cell_type": "code",
   "execution_count": 38,
   "id": "ffd1aa73",
   "metadata": {},
   "outputs": [
    {
     "name": "stderr",
     "output_type": "stream",
     "text": [
      "\r",
      "  0%|                                                                                            | 0/9 [00:00<?, ?it/s]"
     ]
    },
    {
     "name": "stdout",
     "output_type": "stream",
     "text": [
      "\r",
      "[*********************100%***********************]  1 of 1 completed"
     ]
    },
    {
     "name": "stderr",
     "output_type": "stream",
     "text": [
      "\r",
      " 11%|█████████▎                                                                          | 1/9 [00:10<01:23, 10.39s/it]"
     ]
    },
    {
     "name": "stdout",
     "output_type": "stream",
     "text": [
      "\n",
      "[*********************100%***********************]  1 of 1 completed"
     ]
    },
    {
     "name": "stderr",
     "output_type": "stream",
     "text": [
      "\r",
      " 22%|██████████████████▋                                                                 | 2/9 [00:20<01:12, 10.36s/it]"
     ]
    },
    {
     "name": "stdout",
     "output_type": "stream",
     "text": [
      "\n",
      "[*********************100%***********************]  1 of 1 completed"
     ]
    },
    {
     "name": "stderr",
     "output_type": "stream",
     "text": [
      "\r",
      " 33%|████████████████████████████                                                        | 3/9 [00:31<01:02, 10.36s/it]"
     ]
    },
    {
     "name": "stdout",
     "output_type": "stream",
     "text": [
      "\n",
      "\n",
      "1 Failed download:\n",
      "- OTSUSD=X: No timezone found, symbol may be delisted\n",
      "[*********************100%***********************]  1 of 1 completed"
     ]
    },
    {
     "name": "stderr",
     "output_type": "stream",
     "text": [
      "\r",
      " 44%|█████████████████████████████████████▎                                              | 4/9 [00:41<00:51, 10.38s/it]"
     ]
    },
    {
     "name": "stdout",
     "output_type": "stream",
     "text": [
      "\n",
      "[*********************100%***********************]  1 of 1 completed"
     ]
    },
    {
     "name": "stderr",
     "output_type": "stream",
     "text": [
      "\r",
      " 56%|██████████████████████████████████████████████▋                                     | 5/9 [00:51<00:41, 10.38s/it]"
     ]
    },
    {
     "name": "stdout",
     "output_type": "stream",
     "text": [
      "\n",
      "[*********************100%***********************]  1 of 1 completed"
     ]
    },
    {
     "name": "stderr",
     "output_type": "stream",
     "text": [
      "\r",
      " 67%|████████████████████████████████████████████████████████                            | 6/9 [01:02<00:31, 10.36s/it]"
     ]
    },
    {
     "name": "stdout",
     "output_type": "stream",
     "text": [
      "\n",
      "[*********************100%***********************]  1 of 1 completed"
     ]
    },
    {
     "name": "stderr",
     "output_type": "stream",
     "text": [
      "\r",
      " 78%|█████████████████████████████████████████████████████████████████▎                  | 7/9 [01:12<00:20, 10.36s/it]"
     ]
    },
    {
     "name": "stdout",
     "output_type": "stream",
     "text": [
      "\n",
      "[*********************100%***********************]  1 of 1 completed"
     ]
    },
    {
     "name": "stderr",
     "output_type": "stream",
     "text": [
      "\r",
      " 89%|██████████████████████████████████████████████████████████████████████████▋         | 8/9 [01:22<00:10, 10.35s/it]"
     ]
    },
    {
     "name": "stdout",
     "output_type": "stream",
     "text": [
      "\n",
      "[*********************100%***********************]  1 of 1 completed"
     ]
    },
    {
     "name": "stderr",
     "output_type": "stream",
     "text": [
      "100%|████████████████████████████████████████████████████████████████████████████████████| 9/9 [01:33<00:00, 10.36s/it]"
     ]
    },
    {
     "name": "stdout",
     "output_type": "stream",
     "text": [
      "\n"
     ]
    },
    {
     "name": "stderr",
     "output_type": "stream",
     "text": [
      "\n"
     ]
    }
   ],
   "source": [
    "data_final = []\n",
    "for value in tqdm(forex_list_df[0].unique()):\n",
    "    try:\n",
    "        time.sleep(10)\n",
    "        forex_data = yf.download(value+'USD=X', start='2023-04-01', end='2024-03-31',ignore_tz=True)\n",
    "        forex_data['Currency'] = value[:3]\n",
    "        data_final.append(forex_data)\n",
    "    except:\n",
    "        print('Programming Error')\n",
    "forex_df = pd.concat(data_final)"
   ]
  },
  {
   "cell_type": "code",
   "execution_count": 39,
   "id": "876a1d26",
   "metadata": {
    "scrolled": false
   },
   "outputs": [
    {
     "data": {
      "text/html": [
       "<div>\n",
       "<style scoped>\n",
       "    .dataframe tbody tr th:only-of-type {\n",
       "        vertical-align: middle;\n",
       "    }\n",
       "\n",
       "    .dataframe tbody tr th {\n",
       "        vertical-align: top;\n",
       "    }\n",
       "\n",
       "    .dataframe thead th {\n",
       "        text-align: right;\n",
       "    }\n",
       "</style>\n",
       "<table border=\"1\" class=\"dataframe\">\n",
       "  <thead>\n",
       "    <tr style=\"text-align: right;\">\n",
       "      <th></th>\n",
       "      <th>Open</th>\n",
       "      <th>High</th>\n",
       "      <th>Low</th>\n",
       "      <th>Close</th>\n",
       "      <th>Adj Close</th>\n",
       "      <th>Volume</th>\n",
       "      <th>Currency</th>\n",
       "    </tr>\n",
       "    <tr>\n",
       "      <th>Date</th>\n",
       "      <th></th>\n",
       "      <th></th>\n",
       "      <th></th>\n",
       "      <th></th>\n",
       "      <th></th>\n",
       "      <th></th>\n",
       "      <th></th>\n",
       "    </tr>\n",
       "  </thead>\n",
       "  <tbody>\n",
       "    <tr>\n",
       "      <th>2023-04-03</th>\n",
       "      <td>2.675256</td>\n",
       "      <td>2.672896</td>\n",
       "      <td>2.652872</td>\n",
       "      <td>2.675256</td>\n",
       "      <td>2.675256</td>\n",
       "      <td>0.0</td>\n",
       "      <td>BHD</td>\n",
       "    </tr>\n",
       "    <tr>\n",
       "      <th>2023-04-04</th>\n",
       "      <td>2.671418</td>\n",
       "      <td>2.672589</td>\n",
       "      <td>2.652872</td>\n",
       "      <td>2.671418</td>\n",
       "      <td>2.671418</td>\n",
       "      <td>0.0</td>\n",
       "      <td>BHD</td>\n",
       "    </tr>\n",
       "    <tr>\n",
       "      <th>2023-04-05</th>\n",
       "      <td>2.671989</td>\n",
       "      <td>2.672268</td>\n",
       "      <td>2.652872</td>\n",
       "      <td>2.671989</td>\n",
       "      <td>2.671989</td>\n",
       "      <td>0.0</td>\n",
       "      <td>BHD</td>\n",
       "    </tr>\n",
       "    <tr>\n",
       "      <th>2023-04-06</th>\n",
       "      <td>2.671925</td>\n",
       "      <td>2.672425</td>\n",
       "      <td>2.652731</td>\n",
       "      <td>2.671925</td>\n",
       "      <td>2.671925</td>\n",
       "      <td>0.0</td>\n",
       "      <td>BHD</td>\n",
       "    </tr>\n",
       "    <tr>\n",
       "      <th>2023-04-07</th>\n",
       "      <td>2.672332</td>\n",
       "      <td>2.743642</td>\n",
       "      <td>2.652731</td>\n",
       "      <td>2.672332</td>\n",
       "      <td>2.672332</td>\n",
       "      <td>0.0</td>\n",
       "      <td>BHD</td>\n",
       "    </tr>\n",
       "  </tbody>\n",
       "</table>\n",
       "</div>"
      ],
      "text/plain": [
       "                Open      High       Low     Close  Adj Close  Volume Currency\n",
       "Date                                                                          \n",
       "2023-04-03  2.675256  2.672896  2.652872  2.675256   2.675256     0.0      BHD\n",
       "2023-04-04  2.671418  2.672589  2.652872  2.671418   2.671418     0.0      BHD\n",
       "2023-04-05  2.671989  2.672268  2.652872  2.671989   2.671989     0.0      BHD\n",
       "2023-04-06  2.671925  2.672425  2.652731  2.671925   2.671925     0.0      BHD\n",
       "2023-04-07  2.672332  2.743642  2.652731  2.672332   2.672332     0.0      BHD"
      ]
     },
     "metadata": {},
     "output_type": "display_data"
    }
   ],
   "source": [
    "display(forex_df.head(5))"
   ]
  },
  {
   "cell_type": "code",
   "execution_count": 40,
   "id": "833d4cf5",
   "metadata": {
    "scrolled": true
   },
   "outputs": [
    {
     "data": {
      "text/plain": [
       "8"
      ]
     },
     "execution_count": 40,
     "metadata": {},
     "output_type": "execute_result"
    }
   ],
   "source": [
    "forex_df['Currency'].nunique()"
   ]
  },
  {
   "cell_type": "code",
   "execution_count": 41,
   "id": "9d71522b",
   "metadata": {},
   "outputs": [],
   "source": [
    "forex_df.to_csv(r'C:\\Users\\SAL004\\Desktop\\Currency_Rates\\Forex_rates_2023-24_In_USD.csv')"
   ]
  },
  {
   "cell_type": "code",
   "execution_count": 12,
   "id": "e5194510",
   "metadata": {},
   "outputs": [
    {
     "data": {
      "text/html": [
       "<div>\n",
       "<style scoped>\n",
       "    .dataframe tbody tr th:only-of-type {\n",
       "        vertical-align: middle;\n",
       "    }\n",
       "\n",
       "    .dataframe tbody tr th {\n",
       "        vertical-align: top;\n",
       "    }\n",
       "\n",
       "    .dataframe thead th {\n",
       "        text-align: right;\n",
       "    }\n",
       "</style>\n",
       "<table border=\"1\" class=\"dataframe\">\n",
       "  <thead>\n",
       "    <tr style=\"text-align: right;\">\n",
       "      <th></th>\n",
       "      <th>Open</th>\n",
       "      <th>High</th>\n",
       "      <th>Low</th>\n",
       "      <th>Close</th>\n",
       "      <th>Adj Close</th>\n",
       "      <th>Volume</th>\n",
       "      <th>Currency</th>\n",
       "    </tr>\n",
       "    <tr>\n",
       "      <th>Date</th>\n",
       "      <th></th>\n",
       "      <th></th>\n",
       "      <th></th>\n",
       "      <th></th>\n",
       "      <th></th>\n",
       "      <th></th>\n",
       "      <th></th>\n",
       "    </tr>\n",
       "  </thead>\n",
       "  <tbody>\n",
       "  </tbody>\n",
       "</table>\n",
       "</div>"
      ],
      "text/plain": [
       "Empty DataFrame\n",
       "Columns: [Open, High, Low, Close, Adj Close, Volume, Currency]\n",
       "Index: []"
      ]
     },
     "execution_count": 12,
     "metadata": {},
     "output_type": "execute_result"
    }
   ],
   "source": [
    "# Set the index to a datetime object\n",
    "forex_data.index = pd.to_datetime(forex_data.index)\n",
    "\n",
    "# Display the last five rows\n",
    "forex_data.tail()"
   ]
  },
  {
   "cell_type": "code",
   "execution_count": 13,
   "id": "74af5942",
   "metadata": {},
   "outputs": [
    {
     "data": {
      "image/png": "[encoded data removed]",
      "text/plain": [
       "<Figure size 1500x700 with 1 Axes>"
      ]
     },
     "metadata": {},
     "output_type": "display_data"
    }
   ],
   "source": [
    "# Plot the close price\n",
    "plt.figure(figsize=(15, 7))\n",
    "forex_data['Adj Close'].plot()\n",
    "\n",
    "# Set the title and axis label\n",
    "plt.title('GBP/INR Data', fontsize=16)\n",
    "plt.xlabel('Year-Month', fontsize=15)\n",
    "plt.ylabel('Price', fontsize=15)\n",
    "plt.xticks(fontsize=15)\n",
    "plt.yticks(fontsize=15)\n",
    "plt.legend(['Close'], prop={'size': 15})\n",
    "\n",
    "# Show the plot\n",
    "plt.show()"
   ]
  },
  {
   "cell_type": "code",
   "execution_count": 14,
   "id": "8bb24c62",
   "metadata": {},
   "outputs": [
    {
     "name": "stdout",
     "output_type": "stream",
     "text": [
      "Help on class tqdm in module tqdm.std:\n",
      "\n",
      "class tqdm(tqdm.utils.Comparable)\n",
      " |  tqdm(*_, **__)\n",
      " |  \n",
      " |  Decorate an iterable object, returning an iterator which acts exactly\n",
      " |  like the original iterable, but prints a dynamically updating\n",
      " |  progressbar every time a value is requested.\n",
      " |  \n",
      " |  Method resolution order:\n",
      " |      tqdm\n",
      " |      tqdm.utils.Comparable\n",
      " |      builtins.object\n",
      " |  \n",
      " |  Methods defined here:\n",
      " |  \n",
      " |  __bool__(self)\n",
      " |  \n",
      " |  __contains__(self, item)\n",
      " |  \n",
      " |  __del__(self)\n",
      " |  \n",
      " |  __enter__(self)\n",
      " |  \n",
      " |  __exit__(self, exc_type, exc_value, traceback)\n",
      " |  \n",
      " |  __hash__(self)\n",
      " |      Return hash(self).\n",
      " |  \n",
      " |  __init__(self, iterable=None, desc=None, total=None, leave=True, file=None, ncols=None, mininterval=0.1, maxinterval=10.0, miniters=None, ascii=None, disable=False, unit='it', unit_scale=False, dynamic_ncols=False, smoothing=0.3, bar_format=None, initial=0, position=None, postfix=None, unit_divisor=1000, write_bytes=None, lock_args=None, nrows=None, colour=None, delay=0, gui=False, **kwargs)\n",
      " |      Parameters\n",
      " |      ----------\n",
      " |      iterable  : iterable, optional\n",
      " |          Iterable to decorate with a progressbar.\n",
      " |          Leave blank to manually manage the updates.\n",
      " |      desc  : str, optional\n",
      " |          Prefix for the progressbar.\n",
      " |      total  : int or float, optional\n",
      " |          The number of expected iterations. If unspecified,\n",
      " |          len(iterable) is used if possible. If float(\"inf\") or as a last\n",
      " |          resort, only basic progress statistics are displayed\n",
      " |          (no ETA, no progressbar).\n",
      " |          If `gui` is True and this parameter needs subsequent updating,\n",
      " |          specify an initial arbitrary large positive number,\n",
      " |          e.g. 9e9.\n",
      " |      leave  : bool, optional\n",
      " |          If [default: True], keeps all traces of the progressbar\n",
      " |          upon termination of iteration.\n",
      " |          If `None`, will leave only if `position` is `0`.\n",
      " |      file  : `io.TextIOWrapper` or `io.StringIO`, optional\n",
      " |          Specifies where to output the progress messages\n",
      " |          (default: sys.stderr). Uses `file.write(str)` and `file.flush()`\n",
      " |          methods.  For encoding, see `write_bytes`.\n",
      " |      ncols  : int, optional\n",
      " |          The width of the entire output message. If specified,\n",
      " |          dynamically resizes the progressbar to stay within this bound.\n",
      " |          If unspecified, attempts to use environment width. The\n",
      " |          fallback is a meter width of 10 and no limit for the counter and\n",
      " |          statistics. If 0, will not print any meter (only stats).\n",
      " |      mininterval  : float, optional\n",
      " |          Minimum progress display update interval [default: 0.1] seconds.\n",
      " |      maxinterval  : float, optional\n",
      " |          Maximum progress display update interval [default: 10] seconds.\n",
      " |          Automatically adjusts `miniters` to correspond to `mininterval`\n",
      " |          after long display update lag. Only works if `dynamic_miniters`\n",
      " |          or monitor thread is enabled.\n",
      " |      miniters  : int or float, optional\n",
      " |          Minimum progress display update interval, in iterations.\n",
      " |          If 0 and `dynamic_miniters`, will automatically adjust to equal\n",
      " |          `mininterval` (more CPU efficient, good for tight loops).\n",
      " |          If > 0, will skip display of specified number of iterations.\n",
      " |          Tweak this and `mininterval` to get very efficient loops.\n",
      " |          If your progress is erratic with both fast and slow iterations\n",
      " |          (network, skipping items, etc) you should set miniters=1.\n",
      " |      ascii  : bool or str, optional\n",
      " |          If unspecified or False, use unicode (smooth blocks) to fill\n",
      " |          the meter. The fallback is to use ASCII characters \" 123456789#\".\n",
      " |      disable  : bool, optional\n",
      " |          Whether to disable the entire progressbar wrapper\n",
      " |          [default: False]. If set to None, disable on non-TTY.\n",
      " |      unit  : str, optional\n",
      " |          String that will be used to define the unit of each iteration\n",
      " |          [default: it].\n",
      " |      unit_scale  : bool or int or float, optional\n",
      " |          If 1 or True, the number of iterations will be reduced/scaled\n",
      " |          automatically and a metric prefix following the\n",
      " |          International System of Units standard will be added\n",
      " |          (kilo, mega, etc.) [default: False]. If any other non-zero\n",
      " |          number, will scale `total` and `n`.\n",
      " |      dynamic_ncols  : bool, optional\n",
      " |          If set, constantly alters `ncols` and `nrows` to the\n",
      " |          environment (allowing for window resizes) [default: False].\n",
      " |      smoothing  : float, optional\n",
      " |          Exponential moving average smoothing factor for speed estimates\n",
      " |          (ignored in GUI mode). Ranges from 0 (average speed) to 1\n",
      " |          (current/instantaneous speed) [default: 0.3].\n",
      " |      bar_format  : str, optional\n",
      " |          Specify a custom bar string formatting. May impact performance.\n",
      " |          [default: '{l_bar}{bar}{r_bar}'], where\n",
      " |          l_bar='{desc}: {percentage:3.0f}%|' and\n",
      " |          r_bar='| {n_fmt}/{total_fmt} [{elapsed}<{remaining}, '\n",
      " |            '{rate_fmt}{postfix}]'\n",
      " |          Possible vars: l_bar, bar, r_bar, n, n_fmt, total, total_fmt,\n",
      " |            percentage, elapsed, elapsed_s, ncols, nrows, desc, unit,\n",
      " |            rate, rate_fmt, rate_noinv, rate_noinv_fmt,\n",
      " |            rate_inv, rate_inv_fmt, postfix, unit_divisor,\n",
      " |            remaining, remaining_s, eta.\n",
      " |          Note that a trailing \": \" is automatically removed after {desc}\n",
      " |          if the latter is empty.\n",
      " |      initial  : int or float, optional\n",
      " |          The initial counter value. Useful when restarting a progress\n",
      " |          bar [default: 0]. If using float, consider specifying `{n:.3f}`\n",
      " |          or similar in `bar_format`, or specifying `unit_scale`.\n",
      " |      position  : int, optional\n",
      " |          Specify the line offset to print this bar (starting from 0)\n",
      " |          Automatic if unspecified.\n",
      " |          Useful to manage multiple bars at once (eg, from threads).\n",
      " |      postfix  : dict or *, optional\n",
      " |          Specify additional stats to display at the end of the bar.\n",
      " |          Calls `set_postfix(**postfix)` if possible (dict).\n",
      " |      unit_divisor  : float, optional\n",
      " |          [default: 1000], ignored unless `unit_scale` is True.\n",
      " |      write_bytes  : bool, optional\n",
      " |          If (default: None) and `file` is unspecified,\n",
      " |          bytes will be written in Python 2. If `True` will also write\n",
      " |          bytes. In all other cases will default to unicode.\n",
      " |      lock_args  : tuple, optional\n",
      " |          Passed to `refresh` for intermediate output\n",
      " |          (initialisation, iterating, and updating).\n",
      " |      nrows  : int, optional\n",
      " |          The screen height. If specified, hides nested bars outside this\n",
      " |          bound. If unspecified, attempts to use environment height.\n",
      " |          The fallback is 20.\n",
      " |      colour  : str, optional\n",
      " |          Bar colour (e.g. 'green', '#00ff00').\n",
      " |      delay  : float, optional\n",
      " |          Don't display until [default: 0] seconds have elapsed.\n",
      " |      gui  : bool, optional\n",
      " |          WARNING: internal parameter - do not use.\n",
      " |          Use tqdm.gui.tqdm(...) instead. If set, will attempt to use\n",
      " |          matplotlib animations for a graphical output [default: False].\n",
      " |      \n",
      " |      Returns\n",
      " |      -------\n",
      " |      out  : decorated iterator.\n",
      " |  \n",
      " |  __iter__(self)\n",
      " |      Backward-compatibility to use: for x in tqdm(iterable)\n",
      " |  \n",
      " |  __len__(self)\n",
      " |  \n",
      " |  __nonzero__(self)\n",
      " |  \n",
      " |  __reversed__(self)\n",
      " |  \n",
      " |  __str__(self)\n",
      " |      Return str(self).\n",
      " |  \n",
      " |  clear(self, nolock=False)\n",
      " |      Clear current bar display.\n",
      " |  \n",
      " |  close(self)\n",
      " |      Cleanup and (if leave=False) close the progressbar.\n",
      " |  \n",
      " |  display(self, msg=None, pos=None)\n",
      " |      Use `self.sp` to display `msg` in the specified `pos`.\n",
      " |      \n",
      " |      Consider overloading this function when inheriting to use e.g.:\n",
      " |      `self.some_frontend(**self.format_dict)` instead of `self.sp`.\n",
      " |      \n",
      " |      Parameters\n",
      " |      ----------\n",
      " |      msg  : str, optional. What to display (default: `repr(self)`).\n",
      " |      pos  : int, optional. Position to `moveto`\n",
      " |        (default: `abs(self.pos)`).\n",
      " |  \n",
      " |  moveto(self, n)\n",
      " |  \n",
      " |  refresh(self, nolock=False, lock_args=None)\n",
      " |      Force refresh the display of this bar.\n",
      " |      \n",
      " |      Parameters\n",
      " |      ----------\n",
      " |      nolock  : bool, optional\n",
      " |          If `True`, does not lock.\n",
      " |          If [default: `False`]: calls `acquire()` on internal lock.\n",
      " |      lock_args  : tuple, optional\n",
      " |          Passed to internal lock's `acquire()`.\n",
      " |          If specified, will only `display()` if `acquire()` returns `True`.\n",
      " |  \n",
      " |  reset(self, total=None)\n",
      " |      Resets to 0 iterations for repeated use.\n",
      " |      \n",
      " |      Consider combining with `leave=True`.\n",
      " |      \n",
      " |      Parameters\n",
      " |      ----------\n",
      " |      total  : int or float, optional. Total to use for the new bar.\n",
      " |  \n",
      " |  set_description(self, desc=None, refresh=True)\n",
      " |      Set/modify description of the progress bar.\n",
      " |      \n",
      " |      Parameters\n",
      " |      ----------\n",
      " |      desc  : str, optional\n",
      " |      refresh  : bool, optional\n",
      " |          Forces refresh [default: True].\n",
      " |  \n",
      " |  set_description_str(self, desc=None, refresh=True)\n",
      " |      Set/modify description without ': ' appended.\n",
      " |  \n",
      " |  set_postfix(self, ordered_dict=None, refresh=True, **kwargs)\n",
      " |      Set/modify postfix (additional stats)\n",
      " |      with automatic formatting based on datatype.\n",
      " |      \n",
      " |      Parameters\n",
      " |      ----------\n",
      " |      ordered_dict  : dict or OrderedDict, optional\n",
      " |      refresh  : bool, optional\n",
      " |          Forces refresh [default: True].\n",
      " |      kwargs  : dict, optional\n",
      " |  \n",
      " |  set_postfix_str(self, s='', refresh=True)\n",
      " |      Postfix without dictionary expansion, similar to prefix handling.\n",
      " |  \n",
      " |  unpause(self)\n",
      " |      Restart tqdm timer from last print time.\n",
      " |  \n",
      " |  update(self, n=1)\n",
      " |      Manually update the progress bar, useful for streams\n",
      " |      such as reading files.\n",
      " |      E.g.:\n",
      " |      >>> t = tqdm(total=filesize) # Initialise\n",
      " |      >>> for current_buffer in stream:\n",
      " |      ...    ...\n",
      " |      ...    t.update(len(current_buffer))\n",
      " |      >>> t.close()\n",
      " |      The last line is highly recommended, but possibly not necessary if\n",
      " |      `t.update()` will be called in such a way that `filesize` will be\n",
      " |      exactly reached and printed.\n",
      " |      \n",
      " |      Parameters\n",
      " |      ----------\n",
      " |      n  : int or float, optional\n",
      " |          Increment to add to the internal counter of iterations\n",
      " |          [default: 1]. If using float, consider specifying `{n:.3f}`\n",
      " |          or similar in `bar_format`, or specifying `unit_scale`.\n",
      " |      \n",
      " |      Returns\n",
      " |      -------\n",
      " |      out  : bool or None\n",
      " |          True if a `display()` was triggered.\n",
      " |  \n",
      " |  ----------------------------------------------------------------------\n",
      " |  Class methods defined here:\n",
      " |  \n",
      " |  external_write_mode(file=None, nolock=False) from builtins.type\n",
      " |      Disable tqdm within context and refresh tqdm when exits.\n",
      " |      Useful when writing to standard output stream\n",
      " |  \n",
      " |  get_lock() from builtins.type\n",
      " |      Get the global lock. Construct it if it does not exist.\n",
      " |  \n",
      " |  pandas(**tqdm_kwargs) from builtins.type\n",
      " |      Registers the current `tqdm` class with\n",
      " |          pandas.core.\n",
      " |          ( frame.DataFrame\n",
      " |          | series.Series\n",
      " |          | groupby.(generic.)DataFrameGroupBy\n",
      " |          | groupby.(generic.)SeriesGroupBy\n",
      " |          ).progress_apply\n",
      " |      \n",
      " |      A new instance will be created every time `progress_apply` is called,\n",
      " |      and each instance will automatically `close()` upon completion.\n",
      " |      \n",
      " |      Parameters\n",
      " |      ----------\n",
      " |      tqdm_kwargs  : arguments for the tqdm instance\n",
      " |      \n",
      " |      Examples\n",
      " |      --------\n",
      " |      >>> import pandas as pd\n",
      " |      >>> import numpy as np\n",
      " |      >>> from tqdm import tqdm\n",
      " |      >>> from tqdm.gui import tqdm as tqdm_gui\n",
      " |      >>>\n",
      " |      >>> df = pd.DataFrame(np.random.randint(0, 100, (100000, 6)))\n",
      " |      >>> tqdm.pandas(ncols=50)  # can use tqdm_gui, optional kwargs, etc\n",
      " |      >>> # Now you can use `progress_apply` instead of `apply`\n",
      " |      >>> df.groupby(0).progress_apply(lambda x: x**2)\n",
      " |      \n",
      " |      References\n",
      " |      ----------\n",
      " |      <https://stackoverflow.com/questions/18603270/        progress-indicator-during-pandas-operations-python>\n",
      " |  \n",
      " |  set_lock(lock) from builtins.type\n",
      " |      Set the global lock.\n",
      " |  \n",
      " |  wrapattr(stream, method, total=None, bytes=True, **tqdm_kwargs) from builtins.type\n",
      " |      stream  : file-like object.\n",
      " |      method  : str, \"read\" or \"write\". The result of `read()` and\n",
      " |          the first argument of `write()` should have a `len()`.\n",
      " |      \n",
      " |      >>> with tqdm.wrapattr(file_obj, \"read\", total=file_obj.size) as fobj:\n",
      " |      ...     while True:\n",
      " |      ...         chunk = fobj.read(chunk_size)\n",
      " |      ...         if not chunk:\n",
      " |      ...             break\n",
      " |  \n",
      " |  write(s, file=None, end='\\n', nolock=False) from builtins.type\n",
      " |      Print a message via tqdm (without overlap with bars).\n",
      " |  \n",
      " |  ----------------------------------------------------------------------\n",
      " |  Static methods defined here:\n",
      " |  \n",
      " |  __new__(cls, *_, **__)\n",
      " |      Create and return a new object.  See help(type) for accurate signature.\n",
      " |  \n",
      " |  format_interval(t)\n",
      " |      Formats a number of seconds as a clock time, [H:]MM:SS\n",
      " |      \n",
      " |      Parameters\n",
      " |      ----------\n",
      " |      t  : int\n",
      " |          Number of seconds.\n",
      " |      \n",
      " |      Returns\n",
      " |      -------\n",
      " |      out  : str\n",
      " |          [H:]MM:SS\n",
      " |  \n",
      " |  format_meter(n, total, elapsed, ncols=None, prefix='', ascii=False, unit='it', unit_scale=False, rate=None, bar_format=None, postfix=None, unit_divisor=1000, initial=0, colour=None, **extra_kwargs)\n",
      " |      Return a string-based progress bar given some parameters\n",
      " |      \n",
      " |      Parameters\n",
      " |      ----------\n",
      " |      n  : int or float\n",
      " |          Number of finished iterations.\n",
      " |      total  : int or float\n",
      " |          The expected total number of iterations. If meaningless (None),\n",
      " |          only basic progress statistics are displayed (no ETA).\n",
      " |      elapsed  : float\n",
      " |          Number of seconds passed since start.\n",
      " |      ncols  : int, optional\n",
      " |          The width of the entire output message. If specified,\n",
      " |          dynamically resizes `{bar}` to stay within this bound\n",
      " |          [default: None]. If `0`, will not print any bar (only stats).\n",
      " |          The fallback is `{bar:10}`.\n",
      " |      prefix  : str, optional\n",
      " |          Prefix message (included in total width) [default: ''].\n",
      " |          Use as {desc} in bar_format string.\n",
      " |      ascii  : bool, optional or str, optional\n",
      " |          If not set, use unicode (smooth blocks) to fill the meter\n",
      " |          [default: False]. The fallback is to use ASCII characters\n",
      " |          \" 123456789#\".\n",
      " |      unit  : str, optional\n",
      " |          The iteration unit [default: 'it'].\n",
      " |      unit_scale  : bool or int or float, optional\n",
      " |          If 1 or True, the number of iterations will be printed with an\n",
      " |          appropriate SI metric prefix (k = 10^3, M = 10^6, etc.)\n",
      " |          [default: False]. If any other non-zero number, will scale\n",
      " |          `total` and `n`.\n",
      " |      rate  : float, optional\n",
      " |          Manual override for iteration rate.\n",
      " |          If [default: None], uses n/elapsed.\n",
      " |      bar_format  : str, optional\n",
      " |          Specify a custom bar string formatting. May impact performance.\n",
      " |          [default: '{l_bar}{bar}{r_bar}'], where\n",
      " |          l_bar='{desc}: {percentage:3.0f}%|' and\n",
      " |          r_bar='| {n_fmt}/{total_fmt} [{elapsed}<{remaining}, '\n",
      " |            '{rate_fmt}{postfix}]'\n",
      " |          Possible vars: l_bar, bar, r_bar, n, n_fmt, total, total_fmt,\n",
      " |            percentage, elapsed, elapsed_s, ncols, nrows, desc, unit,\n",
      " |            rate, rate_fmt, rate_noinv, rate_noinv_fmt,\n",
      " |            rate_inv, rate_inv_fmt, postfix, unit_divisor,\n",
      " |            remaining, remaining_s, eta.\n",
      " |          Note that a trailing \": \" is automatically removed after {desc}\n",
      " |          if the latter is empty.\n",
      " |      postfix  : *, optional\n",
      " |          Similar to `prefix`, but placed at the end\n",
      " |          (e.g. for additional stats).\n",
      " |          Note: postfix is usually a string (not a dict) for this method,\n",
      " |          and will if possible be set to postfix = ', ' + postfix.\n",
      " |          However other types are supported (#382).\n",
      " |      unit_divisor  : float, optional\n",
      " |          [default: 1000], ignored unless `unit_scale` is True.\n",
      " |      initial  : int or float, optional\n",
      " |          The initial counter value [default: 0].\n",
      " |      colour  : str, optional\n",
      " |          Bar colour (e.g. 'green', '#00ff00').\n",
      " |      \n",
      " |      Returns\n",
      " |      -------\n",
      " |      out  : Formatted meter and stats, ready to display.\n",
      " |  \n",
      " |  format_num(n)\n",
      " |      Intelligent scientific notation (.3g).\n",
      " |      \n",
      " |      Parameters\n",
      " |      ----------\n",
      " |      n  : int or float or Numeric\n",
      " |          A Number.\n",
      " |      \n",
      " |      Returns\n",
      " |      -------\n",
      " |      out  : str\n",
      " |          Formatted number.\n",
      " |  \n",
      " |  format_sizeof(num, suffix='', divisor=1000)\n",
      " |      Formats a number (greater than unity) with SI Order of Magnitude\n",
      " |      prefixes.\n",
      " |      \n",
      " |      Parameters\n",
      " |      ----------\n",
      " |      num  : float\n",
      " |          Number ( >= 1) to format.\n",
      " |      suffix  : str, optional\n",
      " |          Post-postfix [default: ''].\n",
      " |      divisor  : float, optional\n",
      " |          Divisor between prefixes [default: 1000].\n",
      " |      \n",
      " |      Returns\n",
      " |      -------\n",
      " |      out  : str\n",
      " |          Number with Order of Magnitude SI unit postfix.\n",
      " |  \n",
      " |  status_printer(file)\n",
      " |      Manage the printing and in-place updating of a line of characters.\n",
      " |      Note that if the string is longer than a line, then in-place\n",
      " |      updating may not work (it will print a new line at each refresh).\n",
      " |  \n",
      " |  ----------------------------------------------------------------------\n",
      " |  Readonly properties defined here:\n",
      " |  \n",
      " |  format_dict\n",
      " |      Public API for read-only member access.\n",
      " |  \n",
      " |  ----------------------------------------------------------------------\n",
      " |  Data and other attributes defined here:\n",
      " |  \n",
      " |  monitor = <TMonitor(Thread-5, started daemon 27604)>\n",
      " |  \n",
      " |  monitor_interval = 10\n",
      " |  \n",
      " |  ----------------------------------------------------------------------\n",
      " |  Methods inherited from tqdm.utils.Comparable:\n",
      " |  \n",
      " |  __eq__(self, other)\n",
      " |      Return self==value.\n",
      " |  \n",
      " |  __ge__(self, other)\n",
      " |      Return self>=value.\n",
      " |  \n",
      " |  __gt__(self, other)\n",
      " |      Return self>value.\n",
      " |  \n",
      " |  __le__(self, other)\n",
      " |      Return self<=value.\n",
      " |  \n",
      " |  __lt__(self, other)\n",
      " |      Return self<value.\n",
      " |  \n",
      " |  __ne__(self, other)\n",
      " |      Return self!=value.\n",
      " |  \n",
      " |  ----------------------------------------------------------------------\n",
      " |  Data descriptors inherited from tqdm.utils.Comparable:\n",
      " |  \n",
      " |  __dict__\n",
      " |      dictionary for instance variables (if defined)\n",
      " |  \n",
      " |  __weakref__\n",
      " |      list of weak references to the object (if defined)\n",
      "\n"
     ]
    }
   ],
   "source": [
    "help(tqdm)"
   ]
  },
  {
   "cell_type": "code",
   "execution_count": 1,
   "id": "6a87092c",
   "metadata": {},
   "outputs": [
    {
     "data": {
      "text/plain": [
       "'C:\\\\Users\\\\SAL004\\\\Downloads'"
      ]
     },
     "execution_count": 1,
     "metadata": {},
     "output_type": "execute_result"
    }
   ],
   "source": [
    "pwd()"
   ]
  },
  {
   "cell_type": "code",
   "execution_count": null,
   "id": "0fa194b2",
   "metadata": {},
   "outputs": [],
   "source": []
  }
 ],
 "metadata": {
  "kernelspec": {
   "display_name": "Python 3 (ipykernel)",
   "language": "python",
   "name": "python3"
  },
  "language_info": {
   "codemirror_mode": {
    "name": "ipython",
    "version": 3
   },
   "file_extension": ".py",
   "mimetype": "text/x-python",
   "name": "python",
   "nbconvert_exporter": "python",
   "pygments_lexer": "ipython3",
   "version": "3.9.13"
  }
 },
 "nbformat": 4,
 "nbformat_minor": 5
}
