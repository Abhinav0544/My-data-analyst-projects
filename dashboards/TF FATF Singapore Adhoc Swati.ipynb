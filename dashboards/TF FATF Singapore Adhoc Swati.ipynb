{
 "cells": [
  {
   "cell_type": "code",
   "execution_count": 1,
   "id": "ffd9f061",
   "metadata": {},
   "outputs": [],
   "source": [
    "import pandas as pd\n",
    "import numpy as np\n",
    "import sqlalchemy\n",
    "import os\n",
    "import glob\n",
    "import xlrd\n",
    "import xlsxwriter\n",
    "import openpyxl\n",
    "import psycopg2\n",
    "import urllib\n",
    "import openpyxl\n",
    "import time\n",
    "import re\n",
    "import warnings\n",
    "\n",
    "import tkinter as tk\n",
    "from tkinter import ttk, simpledialog, messagebox, Scrollbar, Frame\n",
    "from datetime import datetime, timedelta\n",
    "\n",
    "from configparser import ConfigParser\n",
    "from tqdm import tqdm\n",
    "from datetime import datetime\n",
    "from openpyxl.styles import Font, Color, Alignment, Border, Side, NamedStyle, PatternFill\n",
    "from openpyxl.worksheet.dimensions import ColumnDimension\n",
    "from openpyxl import  load_workbook\n",
    "from openpyxl.utils.cell import get_column_letter\n",
    "from openpyxl.utils.dataframe import dataframe_to_rows\n",
    "from openpyxl.styles import Font, Color, Alignment, Border, Side, NamedStyle, PatternFill\n",
    "from openpyxl.worksheet.dimensions import ColumnDimension\n",
    "from urllib.parse import quote\n",
    "from psycopg2.extensions import AsIs\n",
    "from dateutil.relativedelta import relativedelta\n",
    "from IPython.display import Markdown as md\n",
    "from sqlalchemy import create_engine\n",
    "from sqlalchemy.exc import OperationalError\n",
    "\n",
    "\n",
    "pd.options.display.float_format = '{:.2f}'.format\n",
    "pd.options.display.max_columns\n",
    "pd.options.display.max_rows\n",
    "warnings.filterwarnings(\"ignore\")"
   ]
  },
  {
   "cell_type": "markdown",
   "id": "637e339a",
   "metadata": {},
   "source": [
    "#### FINnet 2.0 Engine"
   ]
  },
  {
   "cell_type": "code",
   "execution_count": 9,
   "id": "4c539e93",
   "metadata": {},
   "outputs": [],
   "source": [
    "FINnet_2_engine=sqlalchemy.create_engine('mssql+pyodbc://SAL_User01:%s@172.16.22.25:1433/FINCORE_BRIDGE_DB?driver=ODBC+Driver+17+for+SQL+Server' % quote('Sal@123'))"
   ]
  },
  {
   "cell_type": "code",
   "execution_count": 10,
   "id": "a15618cf",
   "metadata": {},
   "outputs": [
    {
     "name": "stdout",
     "output_type": "stream",
     "text": [
      " with cte1 as( select distinct reportid,pan from [Fincore_Bridge_DB].[FINCORE_BRIDGE].[person_entity_branch]\n",
      "                    where Report_Type='STR' and cast(SUBSTRING(fiu_batch_id,4,6)as bigint) between 202304 and 202312 and pan is not null\n",
      "                    ) \n",
      "                 select c1.reportid, pan, gos.gosTag2,gos.gosTextNarration\n",
      "                 from cte1 c1\n",
      "                 left join [Fincore_Bridge_DB].[FINCORE_BRIDGE].[fingate_Gos] gos \n",
      "                 on c1.reportid = gos.reportId                              \n",
      "\n"
     ]
    }
   ],
   "source": [
    "gos_query = ''' with cte1 as( select distinct reportid,pan from [Fincore_Bridge_DB].[FINCORE_BRIDGE].[person_entity_branch]\n",
    "                    where Report_Type='STR' and cast(SUBSTRING(fiu_batch_id,4,6)as bigint) between 202304 and 202312 and pan is not null\n",
    "                    ) \n",
    "                 select c1.reportid, pan, gos.gosTag2,gos.gosTextNarration\n",
    "                 from cte1 c1\n",
    "                 left join [Fincore_Bridge_DB].[FINCORE_BRIDGE].[fingate_Gos] gos \n",
    "                 on c1.reportid = gos.reportId                              \n",
    "'''\n",
    "print(gos_query)"
   ]
  },
  {
   "cell_type": "code",
   "execution_count": 11,
   "id": "c47926c1",
   "metadata": {},
   "outputs": [],
   "source": [
    "gos_data = pd.read_sql(gos_query,FINnet_2_engine)"
   ]
  },
  {
   "cell_type": "code",
   "execution_count": 12,
   "id": "71ffb8f3",
   "metadata": {},
   "outputs": [
    {
     "name": "stdout",
     "output_type": "stream",
     "text": [
      "Total data: 186484 rows\n"
     ]
    }
   ],
   "source": [
    "print('Total data:',gos_data.shape[0],'rows')"
   ]
  },
  {
   "cell_type": "code",
   "execution_count": 13,
   "id": "5769d4f5",
   "metadata": {},
   "outputs": [
    {
     "data": {
      "text/html": [
       "<div>\n",
       "<style scoped>\n",
       "    .dataframe tbody tr th:only-of-type {\n",
       "        vertical-align: middle;\n",
       "    }\n",
       "\n",
       "    .dataframe tbody tr th {\n",
       "        vertical-align: top;\n",
       "    }\n",
       "\n",
       "    .dataframe thead th {\n",
       "        text-align: right;\n",
       "    }\n",
       "</style>\n",
       "<table border=\"1\" class=\"dataframe\">\n",
       "  <thead>\n",
       "    <tr style=\"text-align: right;\">\n",
       "      <th></th>\n",
       "      <th>reportid</th>\n",
       "      <th>pan</th>\n",
       "      <th>gosTag2</th>\n",
       "      <th>gosTextNarration</th>\n",
       "    </tr>\n",
       "  </thead>\n",
       "  <tbody>\n",
       "    <tr>\n",
       "      <th>0</th>\n",
       "      <td>548002918</td>\n",
       "      <td>ABBCS9161P</td>\n",
       "      <td>Transaction Monitoring</td>\n",
       "      <td>Rohan Mishra an Individual having address: Shi...</td>\n",
       "    </tr>\n",
       "    <tr>\n",
       "      <th>1</th>\n",
       "      <td>548002918</td>\n",
       "      <td>AAVCA9957E</td>\n",
       "      <td>Transaction Monitoring</td>\n",
       "      <td>Rohan Mishra an Individual having address: Shi...</td>\n",
       "    </tr>\n",
       "  </tbody>\n",
       "</table>\n",
       "</div>"
      ],
      "text/plain": [
       "    reportid         pan                 gosTag2  \\\n",
       "0  548002918  ABBCS9161P  Transaction Monitoring   \n",
       "1  548002918  AAVCA9957E  Transaction Monitoring   \n",
       "\n",
       "                                    gosTextNarration  \n",
       "0  Rohan Mishra an Individual having address: Shi...  \n",
       "1  Rohan Mishra an Individual having address: Shi...  "
      ]
     },
     "execution_count": 13,
     "metadata": {},
     "output_type": "execute_result"
    }
   ],
   "source": [
    "gos_data.head(2)"
   ]
  },
  {
   "cell_type": "code",
   "execution_count": 14,
   "id": "c39e3f6f",
   "metadata": {},
   "outputs": [
    {
     "data": {
      "text/plain": [
       "'C:\\\\Users\\\\LTIM_10701023\\\\Desktop\\\\Ravi\\\\Risk_Individuals_Jan23_Aug24'"
      ]
     },
     "execution_count": 14,
     "metadata": {},
     "output_type": "execute_result"
    }
   ],
   "source": [
    "pwd"
   ]
  },
  {
   "cell_type": "code",
   "execution_count": 20,
   "id": "d7effc16",
   "metadata": {},
   "outputs": [],
   "source": [
    "df_keywords = pd.read_csv(r\"C:\\Users\\LTIM_10701023\\Desktop\\Ravi\\Adhoc\\TF_FATF_S\\keywords.csv\")\n",
    "df_keywords = pd.DataFrame(df_keywords[['Category','Keyword']])"
   ]
  },
  {
   "cell_type": "code",
   "execution_count": 19,
   "id": "d3db3a16",
   "metadata": {},
   "outputs": [
    {
     "data": {
      "text/html": [
       "<div>\n",
       "<style scoped>\n",
       "    .dataframe tbody tr th:only-of-type {\n",
       "        vertical-align: middle;\n",
       "    }\n",
       "\n",
       "    .dataframe tbody tr th {\n",
       "        vertical-align: top;\n",
       "    }\n",
       "\n",
       "    .dataframe thead th {\n",
       "        text-align: right;\n",
       "    }\n",
       "</style>\n",
       "<table border=\"1\" class=\"dataframe\">\n",
       "  <thead>\n",
       "    <tr style=\"text-align: right;\">\n",
       "      <th></th>\n",
       "      <th>Category</th>\n",
       "      <th>Keyword</th>\n",
       "    </tr>\n",
       "  </thead>\n",
       "  <tbody>\n",
       "    <tr>\n",
       "      <th>0</th>\n",
       "      <td>Terror financing</td>\n",
       "      <td>Terror</td>\n",
       "    </tr>\n",
       "    <tr>\n",
       "      <th>1</th>\n",
       "      <td>Terror financing</td>\n",
       "      <td>Radioactive Substance</td>\n",
       "    </tr>\n",
       "    <tr>\n",
       "      <th>2</th>\n",
       "      <td>Terror financing</td>\n",
       "      <td>Nuclear Device</td>\n",
       "    </tr>\n",
       "    <tr>\n",
       "      <th>3</th>\n",
       "      <td>Terror financing</td>\n",
       "      <td>Explosives</td>\n",
       "    </tr>\n",
       "    <tr>\n",
       "      <th>4</th>\n",
       "      <td>Terror financing</td>\n",
       "      <td>Terror Financing</td>\n",
       "    </tr>\n",
       "    <tr>\n",
       "      <th>5</th>\n",
       "      <td>Terror financing</td>\n",
       "      <td>Terror Funding</td>\n",
       "    </tr>\n",
       "  </tbody>\n",
       "</table>\n",
       "</div>"
      ],
      "text/plain": [
       "           Category                Keyword\n",
       "0  Terror financing                 Terror\n",
       "1  Terror financing  Radioactive Substance\n",
       "2  Terror financing         Nuclear Device\n",
       "3  Terror financing             Explosives\n",
       "4  Terror financing       Terror Financing\n",
       "5  Terror financing         Terror Funding"
      ]
     },
     "execution_count": 19,
     "metadata": {},
     "output_type": "execute_result"
    }
   ],
   "source": [
    "df_keywords"
   ]
  },
  {
   "cell_type": "code",
   "execution_count": 21,
   "id": "3c5fb604",
   "metadata": {},
   "outputs": [],
   "source": [
    "# Add a space at the beginning and end of each individual word in df_keywords['Keyword']\n",
    "df_keywords['Keyword'] = df_keywords['Keyword'].apply(lambda x: ' + '.join(f' {word.strip()} ' for word in x.split(' + ')))"
   ]
  },
  {
   "cell_type": "code",
   "execution_count": 22,
   "id": "a949ca49",
   "metadata": {},
   "outputs": [],
   "source": [
    "df_keywords['Keyword'] = df_keywords['Keyword'].str.lower()"
   ]
  },
  {
   "cell_type": "code",
   "execution_count": 24,
   "id": "991375c9",
   "metadata": {},
   "outputs": [
    {
     "data": {
      "text/html": [
       "<div>\n",
       "<style scoped>\n",
       "    .dataframe tbody tr th:only-of-type {\n",
       "        vertical-align: middle;\n",
       "    }\n",
       "\n",
       "    .dataframe tbody tr th {\n",
       "        vertical-align: top;\n",
       "    }\n",
       "\n",
       "    .dataframe thead th {\n",
       "        text-align: right;\n",
       "    }\n",
       "</style>\n",
       "<table border=\"1\" class=\"dataframe\">\n",
       "  <thead>\n",
       "    <tr style=\"text-align: right;\">\n",
       "      <th></th>\n",
       "      <th>Category</th>\n",
       "      <th>Keyword</th>\n",
       "    </tr>\n",
       "  </thead>\n",
       "  <tbody>\n",
       "    <tr>\n",
       "      <th>0</th>\n",
       "      <td>Terror financing</td>\n",
       "      <td>terror</td>\n",
       "    </tr>\n",
       "    <tr>\n",
       "      <th>1</th>\n",
       "      <td>Terror financing</td>\n",
       "      <td>radioactive substance</td>\n",
       "    </tr>\n",
       "    <tr>\n",
       "      <th>2</th>\n",
       "      <td>Terror financing</td>\n",
       "      <td>nuclear device</td>\n",
       "    </tr>\n",
       "    <tr>\n",
       "      <th>3</th>\n",
       "      <td>Terror financing</td>\n",
       "      <td>explosives</td>\n",
       "    </tr>\n",
       "    <tr>\n",
       "      <th>4</th>\n",
       "      <td>Terror financing</td>\n",
       "      <td>terror financing</td>\n",
       "    </tr>\n",
       "    <tr>\n",
       "      <th>5</th>\n",
       "      <td>Terror financing</td>\n",
       "      <td>terror funding</td>\n",
       "    </tr>\n",
       "  </tbody>\n",
       "</table>\n",
       "</div>"
      ],
      "text/plain": [
       "           Category                  Keyword\n",
       "0  Terror financing                  terror \n",
       "1  Terror financing   radioactive substance \n",
       "2  Terror financing          nuclear device \n",
       "3  Terror financing              explosives \n",
       "4  Terror financing        terror financing \n",
       "5  Terror financing          terror funding "
      ]
     },
     "execution_count": 24,
     "metadata": {},
     "output_type": "execute_result"
    }
   ],
   "source": [
    "df_keywords"
   ]
  },
  {
   "cell_type": "code",
   "execution_count": 25,
   "id": "915b2f11",
   "metadata": {},
   "outputs": [],
   "source": [
    "# Define the keyword matching function\n",
    "def is_keyword_in_gos(gos, keywords):\n",
    "    if not isinstance(gos, str):  # Check if 'gos' is a string\n",
    "        return False\n",
    "    return all(keyword in gos.lower() for keyword in keywords.lower().split(' + '))"
   ]
  },
  {
   "cell_type": "code",
   "execution_count": 26,
   "id": "039ebe2e",
   "metadata": {},
   "outputs": [
    {
     "name": "stderr",
     "output_type": "stream",
     "text": [
      "Processing Batches: 100%|██████████████████████████████████████████████████████████████| 19/19 [00:21<00:00,  1.16s/it]\n"
     ]
    },
    {
     "data": {
      "text/html": [
       "<div>\n",
       "<style scoped>\n",
       "    .dataframe tbody tr th:only-of-type {\n",
       "        vertical-align: middle;\n",
       "    }\n",
       "\n",
       "    .dataframe tbody tr th {\n",
       "        vertical-align: top;\n",
       "    }\n",
       "\n",
       "    .dataframe thead th {\n",
       "        text-align: right;\n",
       "    }\n",
       "</style>\n",
       "<table border=\"1\" class=\"dataframe\">\n",
       "  <thead>\n",
       "    <tr style=\"text-align: right;\">\n",
       "      <th></th>\n",
       "      <th>reportid</th>\n",
       "      <th>pan</th>\n",
       "      <th>gosTag2</th>\n",
       "      <th>gosTextNarration</th>\n",
       "      <th>Category</th>\n",
       "    </tr>\n",
       "  </thead>\n",
       "  <tbody>\n",
       "    <tr>\n",
       "      <th>0</th>\n",
       "      <td>548002918</td>\n",
       "      <td>ABBCS9161P</td>\n",
       "      <td>Transaction Monitoring</td>\n",
       "      <td>Rohan Mishra an Individual having address: Shi...</td>\n",
       "      <td>No Tag</td>\n",
       "    </tr>\n",
       "    <tr>\n",
       "      <th>1</th>\n",
       "      <td>548002918</td>\n",
       "      <td>AAVCA9957E</td>\n",
       "      <td>Transaction Monitoring</td>\n",
       "      <td>Rohan Mishra an Individual having address: Shi...</td>\n",
       "      <td>No Tag</td>\n",
       "    </tr>\n",
       "  </tbody>\n",
       "</table>\n",
       "</div>"
      ],
      "text/plain": [
       "    reportid         pan                 gosTag2  \\\n",
       "0  548002918  ABBCS9161P  Transaction Monitoring   \n",
       "1  548002918  AAVCA9957E  Transaction Monitoring   \n",
       "\n",
       "                                    gosTextNarration Category  \n",
       "0  Rohan Mishra an Individual having address: Shi...   No Tag  \n",
       "1  Rohan Mishra an Individual having address: Shi...   No Tag  "
      ]
     },
     "execution_count": 26,
     "metadata": {},
     "output_type": "execute_result"
    }
   ],
   "source": [
    "df_gos = gos_data\n",
    "\n",
    "# Prepare to collect results\n",
    "results = []\n",
    "\n",
    "# Batch processing in chunks of 10000\n",
    "batch_size = 10000\n",
    "\n",
    "output_file = 'tagged_gos_output.csv'\n",
    "\n",
    "# Initialize the CSV file with headers for the first batch\n",
    "with open(output_file, 'w') as f:\n",
    "    f.write('reportid, pan,  Categories\\n')  # Write CSV header\n",
    "\n",
    "for start in tqdm(range(0, len(df_gos), batch_size), desc=\"Processing Batches\"):\n",
    "    end = min(start + batch_size, len(df_gos))\n",
    "    df_batch = df_gos.iloc[start:end]  # Get the current batch\n",
    "\n",
    "    # Cross-join DataFrames (Cartesian Product) for the current batch\n",
    "    df_cross = df_batch.assign(key=1).merge(df_keywords.assign(key=1), on='key').drop('key', axis=1)\n",
    "\n",
    "    # Apply keyword checking\n",
    "    df_cross['is_match'] = df_cross.apply(lambda row: is_keyword_in_gos(row['gosTextNarration'], row['Keyword']), axis=1)\n",
    "\n",
    "    # Filter only rows where there was a match\n",
    "    df_tagged = df_cross[df_cross['is_match']].copy()\n",
    "\n",
    "    # Group by the 'gosTextNarration' column to collect all matching categories\n",
    "    df_tagged = df_tagged.groupby(['reportid', 'pan'])['Category'].apply(lambda x: ', '.join(set(x))).reset_index()\n",
    "\n",
    "    # Merge back to original 'Gos' DataFrame to retain all rows\n",
    "    df_final = df_gos.merge(df_tagged, on=['reportid', 'pan'], how='left').fillna('No Tag')\n",
    "\n",
    "    # Append results for the current batch\n",
    "    results.append(df_final)  # Store the results for final concatenation\n",
    "    \n",
    "    # Append results to the CSV file\n",
    "    #df_tagged.to_csv(output_file, mode='a', header=False, index=False)\n",
    "\n",
    "# Concatenate all batch results into a single DataFrame\n",
    "df_final = pd.concat(results, ignore_index=True)\n",
    "\n",
    "# Display the first two rows of the final output\n",
    "df_final.head(2)"
   ]
  },
  {
   "cell_type": "code",
   "execution_count": 28,
   "id": "659c1b39",
   "metadata": {},
   "outputs": [
    {
     "data": {
      "text/plain": [
       "(3543196, 5)"
      ]
     },
     "execution_count": 28,
     "metadata": {},
     "output_type": "execute_result"
    }
   ],
   "source": [
    "df_final.shape"
   ]
  },
  {
   "cell_type": "code",
   "execution_count": 32,
   "id": "95987efb",
   "metadata": {},
   "outputs": [],
   "source": [
    "df_tf = df_final[df_final['Category']!='No Tag']"
   ]
  },
  {
   "cell_type": "code",
   "execution_count": 33,
   "id": "6b8bb082",
   "metadata": {},
   "outputs": [
    {
     "data": {
      "text/plain": [
       "(69, 5)"
      ]
     },
     "execution_count": 33,
     "metadata": {},
     "output_type": "execute_result"
    }
   ],
   "source": [
    "df_tf.shape"
   ]
  },
  {
   "cell_type": "code",
   "execution_count": 34,
   "id": "4e3be9fd",
   "metadata": {},
   "outputs": [],
   "source": [
    "country = 'singapore'"
   ]
  },
  {
   "cell_type": "code",
   "execution_count": 70,
   "id": "76c1f3a2",
   "metadata": {},
   "outputs": [
    {
     "data": {
      "text/html": [
       "<div>\n",
       "<style scoped>\n",
       "    .dataframe tbody tr th:only-of-type {\n",
       "        vertical-align: middle;\n",
       "    }\n",
       "\n",
       "    .dataframe tbody tr th {\n",
       "        vertical-align: top;\n",
       "    }\n",
       "\n",
       "    .dataframe thead th {\n",
       "        text-align: right;\n",
       "    }\n",
       "</style>\n",
       "<table border=\"1\" class=\"dataframe\">\n",
       "  <thead>\n",
       "    <tr style=\"text-align: right;\">\n",
       "      <th></th>\n",
       "      <th>Keyword</th>\n",
       "    </tr>\n",
       "  </thead>\n",
       "  <tbody>\n",
       "    <tr>\n",
       "      <th>0</th>\n",
       "      <td>singapore</td>\n",
       "    </tr>\n",
       "  </tbody>\n",
       "</table>\n",
       "</div>"
      ],
      "text/plain": [
       "     Keyword\n",
       "0  singapore"
      ]
     },
     "execution_count": 70,
     "metadata": {},
     "output_type": "execute_result"
    }
   ],
   "source": [
    "df_country = pd.DataFrame({'Keyword': [country]})\n",
    "df_country"
   ]
  },
  {
   "cell_type": "markdown",
   "id": "40770833",
   "metadata": {},
   "source": [
    "### Tagging Singapore as Country"
   ]
  },
  {
   "cell_type": "code",
   "execution_count": 71,
   "id": "3e375bc3",
   "metadata": {},
   "outputs": [
    {
     "name": "stderr",
     "output_type": "stream",
     "text": [
      "Processing Batches: 100%|████████████████████████████████████████████████████████████████| 1/1 [00:00<00:00, 83.56it/s]\n"
     ]
    },
    {
     "data": {
      "text/html": [
       "<div>\n",
       "<style scoped>\n",
       "    .dataframe tbody tr th:only-of-type {\n",
       "        vertical-align: middle;\n",
       "    }\n",
       "\n",
       "    .dataframe tbody tr th {\n",
       "        vertical-align: top;\n",
       "    }\n",
       "\n",
       "    .dataframe thead th {\n",
       "        text-align: right;\n",
       "    }\n",
       "</style>\n",
       "<table border=\"1\" class=\"dataframe\">\n",
       "  <thead>\n",
       "    <tr style=\"text-align: right;\">\n",
       "      <th></th>\n",
       "      <th>reportid</th>\n",
       "      <th>pan</th>\n",
       "      <th>gosTag2</th>\n",
       "      <th>gosTextNarration</th>\n",
       "      <th>Category_x</th>\n",
       "      <th>Category_y</th>\n",
       "    </tr>\n",
       "  </thead>\n",
       "  <tbody>\n",
       "    <tr>\n",
       "      <th>0</th>\n",
       "      <td>517889401</td>\n",
       "      <td>ABDPI0878C</td>\n",
       "      <td>Watch List</td>\n",
       "      <td>Gholam Md Izhar an Individual having address :...</td>\n",
       "      <td>Terror financing</td>\n",
       "      <td>No Tag</td>\n",
       "    </tr>\n",
       "    <tr>\n",
       "      <th>1</th>\n",
       "      <td>517889401</td>\n",
       "      <td>BRDPB2818N</td>\n",
       "      <td>Watch List</td>\n",
       "      <td>Gholam Md Izhar an Individual having address :...</td>\n",
       "      <td>Terror financing</td>\n",
       "      <td>No Tag</td>\n",
       "    </tr>\n",
       "  </tbody>\n",
       "</table>\n",
       "</div>"
      ],
      "text/plain": [
       "    reportid         pan     gosTag2  \\\n",
       "0  517889401  ABDPI0878C  Watch List   \n",
       "1  517889401  BRDPB2818N  Watch List   \n",
       "\n",
       "                                    gosTextNarration        Category_x  \\\n",
       "0  Gholam Md Izhar an Individual having address :...  Terror financing   \n",
       "1  Gholam Md Izhar an Individual having address :...  Terror financing   \n",
       "\n",
       "  Category_y  \n",
       "0     No Tag  \n",
       "1     No Tag  "
      ]
     },
     "execution_count": 71,
     "metadata": {},
     "output_type": "execute_result"
    }
   ],
   "source": [
    "df_gos = df_tf\n",
    "\n",
    "# Prepare to collect results\n",
    "results = []\n",
    "\n",
    "# Batch processing in chunks of 10000\n",
    "batch_size = 10000\n",
    "\n",
    "output_file = 'tagged_gos_output.csv'\n",
    "\n",
    "# Initialize the CSV file with headers for the first batch\n",
    "with open(output_file, 'w') as f:\n",
    "    f.write('reportid, pan,  Categories\\n')  # Write CSV header\n",
    "\n",
    "for start in tqdm(range(0, len(df_gos), batch_size), desc=\"Processing Batches\"):\n",
    "    end = min(start + batch_size, len(df_gos))\n",
    "    df_batch = df_gos.iloc[start:end]  # Get the current batch\n",
    "\n",
    "    # Cross-join DataFrames (Cartesian Product) for the current batch\n",
    "    df_cross = df_batch.assign(key=1).merge(df_country.assign(key=1), on='key').drop('key', axis=1)\n",
    "\n",
    "    # Apply keyword checking\n",
    "    df_cross['is_match'] = df_cross.apply(lambda row: is_keyword_in_gos(row['gosTextNarration'], row['Keyword']), axis=1)\n",
    "\n",
    "    # Filter only rows where there was a match\n",
    "    df_tagged = df_cross[df_cross['is_match']].copy()\n",
    "\n",
    "    # Group by the 'gosTextNarration' column to collect all matching categories\n",
    "    df_tagged = df_tagged.groupby(['reportid', 'pan'])['Category'].apply(lambda x: ', '.join(set(x))).reset_index()\n",
    "\n",
    "    # Merge back to original 'Gos' DataFrame to retain all rows\n",
    "    df_final = df_gos.merge(df_tagged, on=['reportid', 'pan'], how='left').fillna('No Tag')\n",
    "\n",
    "    # Append results for the current batch\n",
    "    results.append(df_final)  # Store the results for final concatenation\n",
    "    \n",
    "    # Append results to the CSV file\n",
    "    #df_tagged.to_csv(output_file, mode='a', header=False, index=False)\n",
    "\n",
    "# Concatenate all batch results into a single DataFrame\n",
    "df_final = pd.concat(results, ignore_index=True)\n",
    "\n",
    "# Display the first two rows of the final output\n",
    "df_final.head(2)"
   ]
  },
  {
   "cell_type": "code",
   "execution_count": 72,
   "id": "ec43d20f",
   "metadata": {},
   "outputs": [
    {
     "data": {
      "text/plain": [
       "69"
      ]
     },
     "execution_count": 72,
     "metadata": {},
     "output_type": "execute_result"
    }
   ],
   "source": [
    "df_final.rename(columns={'Category_x':'Tagging','Category_y':'Country'},inplace = True)\n",
    "df_final.shape[0]"
   ]
  },
  {
   "cell_type": "markdown",
   "id": "00a4b562",
   "metadata": {},
   "source": [
    "### Searching Singapore in Whole STR for the given Period"
   ]
  },
  {
   "cell_type": "code",
   "execution_count": 51,
   "id": "c67a64b4",
   "metadata": {},
   "outputs": [
    {
     "data": {
      "text/html": [
       "<div>\n",
       "<style scoped>\n",
       "    .dataframe tbody tr th:only-of-type {\n",
       "        vertical-align: middle;\n",
       "    }\n",
       "\n",
       "    .dataframe tbody tr th {\n",
       "        vertical-align: top;\n",
       "    }\n",
       "\n",
       "    .dataframe thead th {\n",
       "        text-align: right;\n",
       "    }\n",
       "</style>\n",
       "<table border=\"1\" class=\"dataframe\">\n",
       "  <thead>\n",
       "    <tr style=\"text-align: right;\">\n",
       "      <th></th>\n",
       "      <th>Category</th>\n",
       "      <th>Keyword</th>\n",
       "    </tr>\n",
       "  </thead>\n",
       "  <tbody>\n",
       "    <tr>\n",
       "      <th>0</th>\n",
       "      <td>Terror financing</td>\n",
       "      <td>terror</td>\n",
       "    </tr>\n",
       "    <tr>\n",
       "      <th>1</th>\n",
       "      <td>Terror financing</td>\n",
       "      <td>radioactive substance</td>\n",
       "    </tr>\n",
       "    <tr>\n",
       "      <th>2</th>\n",
       "      <td>Terror financing</td>\n",
       "      <td>nuclear device</td>\n",
       "    </tr>\n",
       "    <tr>\n",
       "      <th>3</th>\n",
       "      <td>Terror financing</td>\n",
       "      <td>explosives</td>\n",
       "    </tr>\n",
       "    <tr>\n",
       "      <th>4</th>\n",
       "      <td>Terror financing</td>\n",
       "      <td>terror financing</td>\n",
       "    </tr>\n",
       "    <tr>\n",
       "      <th>5</th>\n",
       "      <td>Terror financing</td>\n",
       "      <td>terror funding</td>\n",
       "    </tr>\n",
       "  </tbody>\n",
       "</table>\n",
       "</div>"
      ],
      "text/plain": [
       "           Category                  Keyword\n",
       "0  Terror financing                  terror \n",
       "1  Terror financing   radioactive substance \n",
       "2  Terror financing          nuclear device \n",
       "3  Terror financing              explosives \n",
       "4  Terror financing        terror financing \n",
       "5  Terror financing          terror funding "
      ]
     },
     "execution_count": 51,
     "metadata": {},
     "output_type": "execute_result"
    }
   ],
   "source": [
    "df_keywords"
   ]
  },
  {
   "cell_type": "code",
   "execution_count": 46,
   "id": "6827de06",
   "metadata": {},
   "outputs": [
    {
     "data": {
      "text/html": [
       "<div>\n",
       "<style scoped>\n",
       "    .dataframe tbody tr th:only-of-type {\n",
       "        vertical-align: middle;\n",
       "    }\n",
       "\n",
       "    .dataframe tbody tr th {\n",
       "        vertical-align: top;\n",
       "    }\n",
       "\n",
       "    .dataframe thead th {\n",
       "        text-align: right;\n",
       "    }\n",
       "</style>\n",
       "<table border=\"1\" class=\"dataframe\">\n",
       "  <thead>\n",
       "    <tr style=\"text-align: right;\">\n",
       "      <th></th>\n",
       "      <th>Keyword</th>\n",
       "    </tr>\n",
       "  </thead>\n",
       "  <tbody>\n",
       "    <tr>\n",
       "      <th>0</th>\n",
       "      <td>singapore</td>\n",
       "    </tr>\n",
       "  </tbody>\n",
       "</table>\n",
       "</div>"
      ],
      "text/plain": [
       "     Keyword\n",
       "0  singapore"
      ]
     },
     "execution_count": 46,
     "metadata": {},
     "output_type": "execute_result"
    }
   ],
   "source": [
    "df_country"
   ]
  },
  {
   "cell_type": "code",
   "execution_count": 34,
   "id": "0f03a808",
   "metadata": {},
   "outputs": [],
   "source": []
  },
  {
   "cell_type": "code",
   "execution_count": 62,
   "id": "732ac174",
   "metadata": {},
   "outputs": [
    {
     "data": {
      "text/html": [
       "<div>\n",
       "<style scoped>\n",
       "    .dataframe tbody tr th:only-of-type {\n",
       "        vertical-align: middle;\n",
       "    }\n",
       "\n",
       "    .dataframe tbody tr th {\n",
       "        vertical-align: top;\n",
       "    }\n",
       "\n",
       "    .dataframe thead th {\n",
       "        text-align: right;\n",
       "    }\n",
       "</style>\n",
       "<table border=\"1\" class=\"dataframe\">\n",
       "  <thead>\n",
       "    <tr style=\"text-align: right;\">\n",
       "      <th></th>\n",
       "      <th>Keyword</th>\n",
       "      <th>Category</th>\n",
       "    </tr>\n",
       "  </thead>\n",
       "  <tbody>\n",
       "    <tr>\n",
       "      <th>0</th>\n",
       "      <td>singapore</td>\n",
       "      <td>SIngapore</td>\n",
       "    </tr>\n",
       "  </tbody>\n",
       "</table>\n",
       "</div>"
      ],
      "text/plain": [
       "     Keyword   Category\n",
       "0  singapore  SIngapore"
      ]
     },
     "execution_count": 62,
     "metadata": {},
     "output_type": "execute_result"
    }
   ],
   "source": [
    "country = 'singapore'\n",
    "df_country = pd.DataFrame({'Keyword': [country],'Category':'SIngapore'})\n",
    "df_country"
   ]
  },
  {
   "cell_type": "code",
   "execution_count": 63,
   "id": "10eb5eea",
   "metadata": {},
   "outputs": [
    {
     "name": "stderr",
     "output_type": "stream",
     "text": [
      "Processing Batches: 100%|██████████████████████████████████████████████████████████████| 19/19 [00:05<00:00,  3.24it/s]\n"
     ]
    },
    {
     "data": {
      "text/html": [
       "<div>\n",
       "<style scoped>\n",
       "    .dataframe tbody tr th:only-of-type {\n",
       "        vertical-align: middle;\n",
       "    }\n",
       "\n",
       "    .dataframe tbody tr th {\n",
       "        vertical-align: top;\n",
       "    }\n",
       "\n",
       "    .dataframe thead th {\n",
       "        text-align: right;\n",
       "    }\n",
       "</style>\n",
       "<table border=\"1\" class=\"dataframe\">\n",
       "  <thead>\n",
       "    <tr style=\"text-align: right;\">\n",
       "      <th></th>\n",
       "      <th>reportid</th>\n",
       "      <th>pan</th>\n",
       "      <th>gosTag2</th>\n",
       "      <th>gosTextNarration</th>\n",
       "      <th>Category</th>\n",
       "    </tr>\n",
       "  </thead>\n",
       "  <tbody>\n",
       "    <tr>\n",
       "      <th>0</th>\n",
       "      <td>548002918</td>\n",
       "      <td>ABBCS9161P</td>\n",
       "      <td>Transaction Monitoring</td>\n",
       "      <td>Rohan Mishra an Individual having address: Shi...</td>\n",
       "      <td>No Tag</td>\n",
       "    </tr>\n",
       "    <tr>\n",
       "      <th>1</th>\n",
       "      <td>548002918</td>\n",
       "      <td>AAVCA9957E</td>\n",
       "      <td>Transaction Monitoring</td>\n",
       "      <td>Rohan Mishra an Individual having address: Shi...</td>\n",
       "      <td>No Tag</td>\n",
       "    </tr>\n",
       "  </tbody>\n",
       "</table>\n",
       "</div>"
      ],
      "text/plain": [
       "    reportid         pan                 gosTag2  \\\n",
       "0  548002918  ABBCS9161P  Transaction Monitoring   \n",
       "1  548002918  AAVCA9957E  Transaction Monitoring   \n",
       "\n",
       "                                    gosTextNarration Category  \n",
       "0  Rohan Mishra an Individual having address: Shi...   No Tag  \n",
       "1  Rohan Mishra an Individual having address: Shi...   No Tag  "
      ]
     },
     "execution_count": 63,
     "metadata": {},
     "output_type": "execute_result"
    }
   ],
   "source": [
    "df_gos = gos_data\n",
    "\n",
    "# Prepare to collect results\n",
    "results = []\n",
    "\n",
    "# Batch processing in chunks of 10000\n",
    "batch_size = 10000\n",
    "\n",
    "output_file = 'tagged_gos_output.csv'\n",
    "\n",
    "# Initialize the CSV file with headers for the first batch\n",
    "with open(output_file, 'w') as f:\n",
    "    f.write('reportid, pan,  Categories\\n')  # Write CSV header\n",
    "\n",
    "for start in tqdm(range(0, len(df_gos), batch_size), desc=\"Processing Batches\"):\n",
    "    end = min(start + batch_size, len(df_gos))\n",
    "    df_batch = df_gos.iloc[start:end]  # Get the current batch\n",
    "\n",
    "    # Cross-join DataFrames (Cartesian Product) for the current batch\n",
    "    df_cross = df_batch.assign(key=1).merge(df_country.assign(key=1), on='key').drop('key', axis=1)\n",
    "\n",
    "    # Apply keyword checking\n",
    "    df_cross['is_match'] = df_cross.apply(lambda row: is_keyword_in_gos(row['gosTextNarration'], row['Keyword']), axis=1)\n",
    "\n",
    "    # Filter only rows where there was a match\n",
    "    df_tagged = df_cross[df_cross['is_match']].copy()\n",
    "\n",
    "    # Group by the 'gosTextNarration' column to collect all matching categories\n",
    "    df_tagged = df_tagged.groupby(['reportid', 'pan'])['Category'].apply(lambda x: ', '.join(set(x))).reset_index()\n",
    "\n",
    "    # Merge back to original 'Gos' DataFrame to retain all rows\n",
    "    df_final = df_gos.merge(df_tagged, on=['reportid', 'pan'], how='left').fillna('No Tag')\n",
    "\n",
    "    # Append results for the current batch\n",
    "    results.append(df_final)  # Store the results for final concatenation\n",
    "    \n",
    "    # Append results to the CSV file\n",
    "    #df_tagged.to_csv(output_file, mode='a', header=False, index=False)\n",
    "\n",
    "# Concatenate all batch results into a single DataFrame\n",
    "df_final = pd.concat(results, ignore_index=True)\n",
    "\n",
    "# Display the first two rows of the final output\n",
    "df_final.head(2)"
   ]
  },
  {
   "cell_type": "code",
   "execution_count": 64,
   "id": "2d2510a9",
   "metadata": {},
   "outputs": [
    {
     "data": {
      "text/plain": [
       "3543196"
      ]
     },
     "execution_count": 64,
     "metadata": {},
     "output_type": "execute_result"
    }
   ],
   "source": [
    "df_final.shape[0]"
   ]
  },
  {
   "cell_type": "code",
   "execution_count": 69,
   "id": "4014e5e3",
   "metadata": {},
   "outputs": [
    {
     "name": "stdout",
     "output_type": "stream",
     "text": [
      "1231\n"
     ]
    },
    {
     "data": {
      "text/html": [
       "<div>\n",
       "<style scoped>\n",
       "    .dataframe tbody tr th:only-of-type {\n",
       "        vertical-align: middle;\n",
       "    }\n",
       "\n",
       "    .dataframe tbody tr th {\n",
       "        vertical-align: top;\n",
       "    }\n",
       "\n",
       "    .dataframe thead th {\n",
       "        text-align: right;\n",
       "    }\n",
       "</style>\n",
       "<table border=\"1\" class=\"dataframe\">\n",
       "  <thead>\n",
       "    <tr style=\"text-align: right;\">\n",
       "      <th></th>\n",
       "      <th>reportid</th>\n",
       "      <th>pan</th>\n",
       "      <th>gosTag2</th>\n",
       "      <th>gosTextNarration</th>\n",
       "      <th>Category</th>\n",
       "    </tr>\n",
       "  </thead>\n",
       "  <tbody>\n",
       "    <tr>\n",
       "      <th>473</th>\n",
       "      <td>529446502</td>\n",
       "      <td>ASKPK6687P</td>\n",
       "      <td>Law Enforcement Agency Query</td>\n",
       "      <td>CUSTOMER KYC \\tFull name and address of the Ac...</td>\n",
       "      <td>SIngapore</td>\n",
       "    </tr>\n",
       "    <tr>\n",
       "      <th>474</th>\n",
       "      <td>529446502</td>\n",
       "      <td>ABIFM6996L</td>\n",
       "      <td>Law Enforcement Agency Query</td>\n",
       "      <td>CUSTOMER KYC \\tFull name and address of the Ac...</td>\n",
       "      <td>SIngapore</td>\n",
       "    </tr>\n",
       "  </tbody>\n",
       "</table>\n",
       "</div>"
      ],
      "text/plain": [
       "      reportid         pan                       gosTag2  \\\n",
       "473  529446502  ASKPK6687P  Law Enforcement Agency Query   \n",
       "474  529446502  ABIFM6996L  Law Enforcement Agency Query   \n",
       "\n",
       "                                      gosTextNarration   Category  \n",
       "473  CUSTOMER KYC \\tFull name and address of the Ac...  SIngapore  \n",
       "474  CUSTOMER KYC \\tFull name and address of the Ac...  SIngapore  "
      ]
     },
     "metadata": {},
     "output_type": "display_data"
    }
   ],
   "source": [
    "df_singapore = df_final[df_final['Category'] != 'No Tag']\n",
    "print(df_singapore.shape[0])\n",
    "display(df_singapore.head(2))"
   ]
  },
  {
   "cell_type": "code",
   "execution_count": 73,
   "id": "0a889496",
   "metadata": {},
   "outputs": [],
   "source": [
    "df_singapore.rename(columns={'Category':'Country_Tagged'}, inplace= True)"
   ]
  },
  {
   "cell_type": "code",
   "execution_count": 75,
   "id": "528c695a",
   "metadata": {},
   "outputs": [
    {
     "data": {
      "text/html": [
       "<div>\n",
       "<style scoped>\n",
       "    .dataframe tbody tr th:only-of-type {\n",
       "        vertical-align: middle;\n",
       "    }\n",
       "\n",
       "    .dataframe tbody tr th {\n",
       "        vertical-align: top;\n",
       "    }\n",
       "\n",
       "    .dataframe thead th {\n",
       "        text-align: right;\n",
       "    }\n",
       "</style>\n",
       "<table border=\"1\" class=\"dataframe\">\n",
       "  <thead>\n",
       "    <tr style=\"text-align: right;\">\n",
       "      <th></th>\n",
       "      <th>reportid</th>\n",
       "      <th>pan</th>\n",
       "      <th>gosTag2</th>\n",
       "      <th>gosTextNarration</th>\n",
       "      <th>Country_Tagged</th>\n",
       "    </tr>\n",
       "  </thead>\n",
       "  <tbody>\n",
       "    <tr>\n",
       "      <th>473</th>\n",
       "      <td>529446502</td>\n",
       "      <td>ASKPK6687P</td>\n",
       "      <td>Law Enforcement Agency Query</td>\n",
       "      <td>CUSTOMER KYC \\tFull name and address of the Ac...</td>\n",
       "      <td>SIngapore</td>\n",
       "    </tr>\n",
       "    <tr>\n",
       "      <th>474</th>\n",
       "      <td>529446502</td>\n",
       "      <td>ABIFM6996L</td>\n",
       "      <td>Law Enforcement Agency Query</td>\n",
       "      <td>CUSTOMER KYC \\tFull name and address of the Ac...</td>\n",
       "      <td>SIngapore</td>\n",
       "    </tr>\n",
       "  </tbody>\n",
       "</table>\n",
       "</div>"
      ],
      "text/plain": [
       "      reportid         pan                       gosTag2  \\\n",
       "473  529446502  ASKPK6687P  Law Enforcement Agency Query   \n",
       "474  529446502  ABIFM6996L  Law Enforcement Agency Query   \n",
       "\n",
       "                                      gosTextNarration Country_Tagged  \n",
       "473  CUSTOMER KYC \\tFull name and address of the Ac...      SIngapore  \n",
       "474  CUSTOMER KYC \\tFull name and address of the Ac...      SIngapore  "
      ]
     },
     "execution_count": 75,
     "metadata": {},
     "output_type": "execute_result"
    }
   ],
   "source": [
    "df_singapore.head(2)"
   ]
  },
  {
   "cell_type": "code",
   "execution_count": 76,
   "id": "35a82b67",
   "metadata": {},
   "outputs": [
    {
     "name": "stderr",
     "output_type": "stream",
     "text": [
      "Processing Batches: 100%|████████████████████████████████████████████████████████████████| 1/1 [00:00<00:00,  5.79it/s]\n"
     ]
    },
    {
     "data": {
      "text/html": [
       "<div>\n",
       "<style scoped>\n",
       "    .dataframe tbody tr th:only-of-type {\n",
       "        vertical-align: middle;\n",
       "    }\n",
       "\n",
       "    .dataframe tbody tr th {\n",
       "        vertical-align: top;\n",
       "    }\n",
       "\n",
       "    .dataframe thead th {\n",
       "        text-align: right;\n",
       "    }\n",
       "</style>\n",
       "<table border=\"1\" class=\"dataframe\">\n",
       "  <thead>\n",
       "    <tr style=\"text-align: right;\">\n",
       "      <th></th>\n",
       "      <th>reportid</th>\n",
       "      <th>pan</th>\n",
       "      <th>gosTag2</th>\n",
       "      <th>gosTextNarration</th>\n",
       "      <th>Country_Tagged</th>\n",
       "      <th>Category</th>\n",
       "    </tr>\n",
       "  </thead>\n",
       "  <tbody>\n",
       "    <tr>\n",
       "      <th>0</th>\n",
       "      <td>529446502</td>\n",
       "      <td>ASKPK6687P</td>\n",
       "      <td>Law Enforcement Agency Query</td>\n",
       "      <td>CUSTOMER KYC \\tFull name and address of the Ac...</td>\n",
       "      <td>SIngapore</td>\n",
       "      <td>No Tag</td>\n",
       "    </tr>\n",
       "    <tr>\n",
       "      <th>1</th>\n",
       "      <td>529446502</td>\n",
       "      <td>ABIFM6996L</td>\n",
       "      <td>Law Enforcement Agency Query</td>\n",
       "      <td>CUSTOMER KYC \\tFull name and address of the Ac...</td>\n",
       "      <td>SIngapore</td>\n",
       "      <td>No Tag</td>\n",
       "    </tr>\n",
       "  </tbody>\n",
       "</table>\n",
       "</div>"
      ],
      "text/plain": [
       "    reportid         pan                       gosTag2  \\\n",
       "0  529446502  ASKPK6687P  Law Enforcement Agency Query   \n",
       "1  529446502  ABIFM6996L  Law Enforcement Agency Query   \n",
       "\n",
       "                                    gosTextNarration Country_Tagged Category  \n",
       "0  CUSTOMER KYC \\tFull name and address of the Ac...      SIngapore   No Tag  \n",
       "1  CUSTOMER KYC \\tFull name and address of the Ac...      SIngapore   No Tag  "
      ]
     },
     "execution_count": 76,
     "metadata": {},
     "output_type": "execute_result"
    }
   ],
   "source": [
    "df_gos = df_singapore\n",
    "\n",
    "# Prepare to collect results\n",
    "results = []\n",
    "\n",
    "# Batch processing in chunks of 10000\n",
    "batch_size = 10000\n",
    "\n",
    "output_file = 'tagged_gos_output.csv'\n",
    "\n",
    "# Initialize the CSV file with headers for the first batch\n",
    "with open(output_file, 'w') as f:\n",
    "    f.write('reportid, pan,  Categories\\n')  # Write CSV header\n",
    "\n",
    "for start in tqdm(range(0, len(df_gos), batch_size), desc=\"Processing Batches\"):\n",
    "    end = min(start + batch_size, len(df_gos))\n",
    "    df_batch = df_gos.iloc[start:end]  # Get the current batch\n",
    "\n",
    "    # Cross-join DataFrames (Cartesian Product) for the current batch\n",
    "    df_cross = df_batch.assign(key=1).merge(df_keywords.assign(key=1), on='key').drop('key', axis=1)\n",
    "\n",
    "    # Apply keyword checking\n",
    "    df_cross['is_match'] = df_cross.apply(lambda row: is_keyword_in_gos(row['gosTextNarration'], row['Keyword']), axis=1)\n",
    "\n",
    "    # Filter only rows where there was a match\n",
    "    df_tagged = df_cross[df_cross['is_match']].copy()\n",
    "\n",
    "    # Group by the 'gosTextNarration' column to collect all matching categories\n",
    "    df_tagged = df_tagged.groupby(['reportid', 'pan'])['Category'].apply(lambda x: ', '.join(set(x))).reset_index()\n",
    "\n",
    "    # Merge back to original 'Gos' DataFrame to retain all rows\n",
    "    df_final = df_gos.merge(df_tagged, on=['reportid', 'pan'], how='left').fillna('No Tag')\n",
    "\n",
    "    # Append results for the current batch\n",
    "    results.append(df_final)  # Store the results for final concatenation\n",
    "    \n",
    "    # Append results to the CSV file\n",
    "    #df_tagged.to_csv(output_file, mode='a', header=False, index=False)\n",
    "\n",
    "# Concatenate all batch results into a single DataFrame\n",
    "df_final = pd.concat(results, ignore_index=True)\n",
    "\n",
    "# Display the first two rows of the final output\n",
    "df_final.head(2)"
   ]
  },
  {
   "cell_type": "code",
   "execution_count": 77,
   "id": "2d603a0c",
   "metadata": {},
   "outputs": [
    {
     "data": {
      "text/plain": [
       "(1231, 6)"
      ]
     },
     "execution_count": 77,
     "metadata": {},
     "output_type": "execute_result"
    }
   ],
   "source": [
    "df_final.shape"
   ]
  },
  {
   "cell_type": "code",
   "execution_count": 78,
   "id": "8b7d361a",
   "metadata": {},
   "outputs": [
    {
     "data": {
      "text/plain": [
       "array(['No Tag'], dtype=object)"
      ]
     },
     "execution_count": 78,
     "metadata": {},
     "output_type": "execute_result"
    }
   ],
   "source": [
    "df_final['Category'].unique()"
   ]
  },
  {
   "cell_type": "code",
   "execution_count": null,
   "id": "c19f2756",
   "metadata": {},
   "outputs": [],
   "source": []
  }
 ],
 "metadata": {
  "kernelspec": {
   "display_name": "Python 3 (ipykernel)",
   "language": "python",
   "name": "python3"
  },
  "language_info": {
   "codemirror_mode": {
    "name": "ipython",
    "version": 3
   },
   "file_extension": ".py",
   "mimetype": "text/x-python",
   "name": "python",
   "nbconvert_exporter": "python",
   "pygments_lexer": "ipython3",
   "version": "3.11.5"
  }
 },
 "nbformat": 4,
 "nbformat_minor": 5
}
